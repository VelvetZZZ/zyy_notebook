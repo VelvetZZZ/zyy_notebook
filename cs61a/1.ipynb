{
 "cells": [
  {
   "cell_type": "markdown",
   "metadata": {},
   "source": [
    "Return Statements  返回语句 ：\n",
    "为了完成对调用表达式的求值\n",
    "\n",
    "\n",
    "1. 讲解 return 语句的核心概念\n",
    "\n",
    "（1）什么是 return？\n",
    "\t•\treturn 语句用于 结束函数的执行，并将一个值返回给调用函数的位置。\n",
    "\t•\t一旦 return 被执行，函数立即停止运行，返回控制权给调用者。\n",
    "\n",
    "（2）函数调用的流程\n",
    "\t•\t调用一个函数时，程序会：\n",
    "\t1.\t进入函数的执行环境（创建局部作用域）。\n",
    "\t2.\t执行函数体的代码。\n",
    "\t3.\t遇到 return 语句时返回一个值，并退出函数。\n",
    "\t4.\t如果没有 return，默认返回 None。\n",
    "\n",
    " * n % 10 计算 n 除以 10 的余数，即个位数。%取余数\n",
    " * // 是 整除运算符，n // 10 计算 n 除以 10 后的整数部分，去掉最后一位。//取整\n"
   ]
  }
 ],
 "metadata": {
  "language_info": {
   "name": "python"
  }
 },
 "nbformat": 4,
 "nbformat_minor": 2
}
